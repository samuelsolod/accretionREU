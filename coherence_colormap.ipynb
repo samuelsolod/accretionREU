{
 "cells": [
  {
   "cell_type": "code",
   "execution_count": null,
   "metadata": {},
   "outputs": [],
   "source": [
    "def coherence_colormap(gamma2, freqs, radius, viscous_freq, dimentionality, spin):\n",
    "    frequency = freqs * ((c**3) / (G * M))\n",
    "\n",
    "    f, ax = plt.subplots(figsize=(6, 6))\n",
    "\n",
    "    img = ax.pcolormesh(radius, frequency, np.transpose(gamma2), cmap='viridis', vmin=0, vmax=1, shading='auto')\n",
    "\n",
    "    ax.plot(radius, viscous_freq, linestyle=':', color='red', label='Viscous Frequency')\n",
    "    ax.legend()\n",
    "    cbar = f.colorbar(img)\n",
    "    cbar.set_label('$\\\\gamma^2$', fontsize=14)\n",
    "    cbar.ax.tick_params(labelsize=12)\n",
    "    ax.tick_params(axis='both', which='major', labelsize=10)\n",
    "    ax.tick_params(axis='both', which='minor', labelsize=8)\n",
    "    ax.minorticks_on()\n",
    "    ax.set_ylim(frequency.iloc[0], frequency.iloc[-1])\n",
    "    ax.set_xlim(right=1e2)\n",
    "    ax.set_xscale('log')\n",
    "    ax.set_yscale('log')\n",
    "    ax.set_xlabel('r $[GM/c^2]$', fontsize=14)\n",
    "    ax.set_ylabel(r'Frequency $[(M_\\odot/M) \\, \\mathrm{Hz}]$', fontsize=14)\n",
    "    ax.set_title('Radial Coherence')\n",
    "    spin_text = \"0 Spin\" if spin == 0 else \"0.9 Spin\"\n",
    "    dimensionality_text = \"2D\" if dimentionality == \"2D\" else \"3D\"\n",
    "    ax.set_title(f\"{dimensionality_text} Radial Coherence: {spin_text}\")\n",
    "\n",
    "    return f, ax"
   ]
  },
  {
   "cell_type": "code",
   "execution_count": null,
   "metadata": {},
   "outputs": [],
   "source": []
  }
 ],
 "metadata": {
  "language_info": {
   "name": "python"
  }
 },
 "nbformat": 4,
 "nbformat_minor": 2
}

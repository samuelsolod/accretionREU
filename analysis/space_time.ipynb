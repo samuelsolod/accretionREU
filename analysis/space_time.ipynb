{
 "cells": [
  {
   "cell_type": "code",
   "execution_count": 18,
   "metadata": {},
   "outputs": [],
   "source": [
    "import pandas as pd\n",
    "import matplotlib.pyplot as plt\n",
    "import numpy as np\n",
    "\n",
    "def space_time(mdot_df, vmin, vmax, dimentionality, spin):\n",
    "    \n",
    "    timeValues = mdot_df.index.tolist()\n",
    "    tmin = timeValues[0] * 10 \n",
    "    tmax = timeValues[-1] * 10\n",
    "    \n",
    "    r = mdot_df.columns.astype(float) \n",
    "    t = mdot_df.index.astype(float) * 10\n",
    "    \n",
    "\n",
    "    R, T = np.meshgrid(r, t)\n",
    "\n",
    "    f, ax = plt.subplots(figsize=(6, 6))\n",
    "    \n",
    "    #img = ax.pcolormesh(R, T, mdot_df, cmap='seismic', shading='auto')\n",
    "    img = ax.pcolormesh(R, T, mdot_df, cmap='seismic', vmin=vmin, vmax=vmax, shading='auto')\n",
    "\n",
    "    cbar = f.colorbar(img)\n",
    "    cbar.set_label('$\\dot{M}$', fontsize=14)\n",
    "    cbar.ax.tick_params(labelsize=10)\n",
    "\n",
    "    ax.tick_params(axis='both', which='major', labelsize=10)\n",
    "    ax.tick_params(axis='both', which='minor', labelsize=10)\n",
    "    ax.minorticks_on()\n",
    "    ax.set_xlabel(r'$r \\; (GM/c^2)$', fontsize=12)\n",
    "    ax.set_xscale('log')\n",
    "    ax.set_xlim(r.min(), 1e2)\n",
    "    ax.set_ylim(tmin, tmax)\n",
    "    ax.set_ylabel('$t$', fontsize=12)\n",
    "    spin_text = \"0 Spin\" if spin == 0 else \"0.9 Spin\"\n",
    "    dimensionality_text = \"2D\" if dimentionality == \"2D\" else \"3D\"\n",
    "    ax.set_title(f\"{dimensionality_text} Simulation Space-Time  {spin_text}\")\n",
    "    return f, ax"
   ]
  },
  {
   "cell_type": "code",
   "execution_count": null,
   "metadata": {},
   "outputs": [],
   "source": []
  }
 ],
 "metadata": {
  "kernelspec": {
   "display_name": "CIERAREU",
   "language": "python",
   "name": "python3"
  },
  "language_info": {
   "codemirror_mode": {
    "name": "ipython",
    "version": 3
   },
   "file_extension": ".py",
   "mimetype": "text/x-python",
   "name": "python",
   "nbconvert_exporter": "python",
   "pygments_lexer": "ipython3",
   "version": "3.10.14"
  }
 },
 "nbformat": 4,
 "nbformat_minor": 2
}

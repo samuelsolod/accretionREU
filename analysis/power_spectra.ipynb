{
 "cells": [
  {
   "cell_type": "code",
   "execution_count": 7,
   "metadata": {},
   "outputs": [],
   "source": [
    "import numpy as np\n",
    "import matplotlib.pyplot as plt\n",
    "c = 3e8\n",
    "G = 6.6473e-11\n",
    "M = 1.9891e30 \n",
    "\n",
    "def power_spectra(power_df, vmin, vmax):\n",
    "    v = power_df.columns.astype(float) * ((c**3) / (G * M))\n",
    "\n",
    "    r = power_df.index.astype(float)    \n",
    "\n",
    "    R, V = np.meshgrid(r, v, indexing='ij')\n",
    "\n",
    "    f, ax = plt.subplots(figsize=(6, 6))\n",
    "\n",
    "    img = ax.pcolormesh(R, V, power_df.values, cmap='viridis', vmin=vmin, vmax=vmax, shading='auto')\n",
    "\n",
    "\n",
    "    # power_df = power_df.transpose()\n",
    "    # f, ax = plt.subplots(figsize=(6, 6))\n",
    "\n",
    "    # img = ax.pcolormesh(power_df, cmap='viridis', vmin=vmin, vmax=vmax, shading='auto')\n",
    "\n",
    "    cbar = f.colorbar(img)\n",
    "    cbar.set_label('$log(Pv)$', fontsize=12)\n",
    "    cbar.ax.tick_params(labelsize=12)\n",
    "    \n",
    "    ax.tick_params(axis='both', which='major', labelsize=10)\n",
    "    ax.tick_params(axis='both', which='minor', labelsize=8)\n",
    "    ax.minorticks_on()\n",
    "    ax.set_xscale('log')\n",
    "    ax.set_yscale('log')\n",
    "    ax.set_ylim(np.min(power_df.index), np.max(power_df.index)) \n",
    "    ax.set_xlim(np.min(power_df.columns), np.max(power_df.columns))\n",
    "    ax.set_xlabel(r'$r \\; (GM/c^2)$', fontsize=12)\n",
    "    ax.set_ylabel(r'$v \\; [(M_\\odot/M) \\; Hz]$', fontsize=12)\n",
    "    ax.set_title(r'$Power \\; Spectra \\; of \\; \\dot{M}$', fontsize=14)"
   ]
  },
  {
   "cell_type": "code",
   "execution_count": null,
   "metadata": {},
   "outputs": [],
   "source": []
  }
 ],
 "metadata": {
  "kernelspec": {
   "display_name": "CIERAREU",
   "language": "python",
   "name": "python3"
  },
  "language_info": {
   "codemirror_mode": {
    "name": "ipython",
    "version": 3
   },
   "file_extension": ".py",
   "mimetype": "text/x-python",
   "name": "python",
   "nbconvert_exporter": "python",
   "pygments_lexer": "ipython3",
   "version": "3.10.14"
  }
 },
 "nbformat": 4,
 "nbformat_minor": 2
}

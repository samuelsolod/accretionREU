{
 "cells": [
  {
   "cell_type": "code",
   "execution_count": null,
   "metadata": {},
   "outputs": [],
   "source": [
    "def PSD(freqs, power, dimentionality):\n",
    "    f, ax = plt.subplots(figsize=(6, 6))\n",
    "    frequencies = freqs * ((c**3) / (G * M))\n",
    "    ax.plot(frequencies, power*frequencies)\n",
    "\n",
    "    ax.tick_params(axis='both', which='major', labelsize=10)\n",
    "    ax.tick_params(axis='both', which='minor', labelsize=10)\n",
    "    ax.minorticks_on()\n",
    "\n",
    "    ax.set_xscale('log')\n",
    "    ax.set_yscale('log')\n",
    "    ax.grid(True, which='both', ls='dotted')\n",
    "\n",
    "    ax.set_xlabel(r'$v \\; [(M_\\odot/M) \\; Hz]$', fontsize=12)\n",
    "    ax.set_ylabel(r'$Pv$', fontsize=12)  # Corrected ylabel\n",
    "    if dimentionality == '2D':\n",
    "        ax.set_title(rf'$2D: \\; PSD \\; at \\; r = {power.name} \\; (GM/c^2)$', fontsize=14)    \n",
    "    else:\n",
    "        ax.set_title(rf'$3D: \\; PSD \\; at \\; r = {power.name} \\; (GM/c^2)$', fontsize=14)    \n"
   ]
  },
  {
   "cell_type": "code",
   "execution_count": null,
   "metadata": {},
   "outputs": [],
   "source": []
  }
 ],
 "metadata": {
  "language_info": {
   "name": "python"
  }
 },
 "nbformat": 4,
 "nbformat_minor": 2
}

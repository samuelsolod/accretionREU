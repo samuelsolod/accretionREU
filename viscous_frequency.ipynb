{
 "cells": [
  {
   "cell_type": "code",
   "execution_count": null,
   "metadata": {},
   "outputs": [],
   "source": [
    "import numpy as np\n",
    "c = 3e8\n",
    "G = 6.6473e-11\n",
    "M = 1.9891e30 \n",
    "\n",
    "def viscous_frequency(vradial_df, radius):\n",
    "    avgvr=[]\n",
    "    vradial_df[vradial_df>0.0] = 0.0   \n",
    "    for i in range(len(radius)):\n",
    "        x = vradial_df.iloc[:, i]\n",
    "        xl = len(x[x<0])\n",
    "        avgvr.append(np.sum(vradial_df.iloc[:, i],axis=0)/xl)\n",
    "    viscous_freq = (-np.array(avgvr)/radius) * ((c**3) / (G * M))\n",
    "    \n",
    "    return viscous_freq"
   ]
  }
 ],
 "metadata": {
  "kernelspec": {
   "display_name": "CIERAREU",
   "language": "python",
   "name": "python3"
  },
  "language_info": {
   "name": "python",
   "version": "3.10.14"
  }
 },
 "nbformat": 4,
 "nbformat_minor": 2
}

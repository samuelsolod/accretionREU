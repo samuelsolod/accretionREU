{
 "cells": [
  {
   "cell_type": "code",
   "execution_count": 2,
   "metadata": {},
   "outputs": [],
   "source": [
    "def mdot_plot(mdot_df, time_values, radius_specification, dimentionality):\n",
    "    column_name = mdot_df.columns[radius_specification]\n",
    "    mass_accretion_specified_r = mdot_df[column_name]\n",
    "    time_values = time_values * 10\n",
    "    print(np.shape(time_values), np.shape(mass_accretion_specified_r))\n",
    "\n",
    "    f, ax = plt.subplots(figsize=(6,6))\n",
    "\n",
    "    plt.scatter(time_values, mass_accretion_specified_r)\n",
    "\n",
    "    ax.tick_params(axis='both', which='major', labelsize=10)\n",
    "    ax.tick_params(axis='both', which='minor', labelsize=10)\n",
    "    ax.minorticks_on()\n",
    "    ax.grid(True)\n",
    "\n",
    "    ax.set_xlabel('$t$', fontsize=12)\n",
    "    ax.set_ylabel('$\\dot{m}$', fontsize=12)\n",
    "    if dimentionality == '2D':\n",
    "        ax.set_title(rf'$ 2D \\; Mass \\; Accretion \\; Rate \\; at \\; Radius: {column_name} \\; (GM/c^2)$', fontsize=12)    \n",
    "    else:\n",
    "        ax.set_title(rf'$ 3D \\; Mass \\; Accretion \\; Rate \\; at \\; Radius: {column_name} \\; (GM/c^2)$', fontsize=12)\n",
    "\n",
    "    return f, ax"
   ]
  },
  {
   "cell_type": "code",
   "execution_count": null,
   "metadata": {},
   "outputs": [],
   "source": []
  }
 ],
 "metadata": {
  "kernelspec": {
   "display_name": "CIERAREU",
   "language": "python",
   "name": "python3"
  },
  "language_info": {
   "codemirror_mode": {
    "name": "ipython",
    "version": 3
   },
   "file_extension": ".py",
   "mimetype": "text/x-python",
   "name": "python",
   "nbconvert_exporter": "python",
   "pygments_lexer": "ipython3",
   "version": "3.10.14"
  }
 },
 "nbformat": 4,
 "nbformat_minor": 2
}
